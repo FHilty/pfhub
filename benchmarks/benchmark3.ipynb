{
 "cells": [
  {
   "cell_type": "code",
   "execution_count": 1,
   "metadata": {},
   "outputs": [
    {
     "data": {
      "text/html": [
       "<script>\n",
       "code_show=true; \n",
       "function code_toggle() {\n",
       " if (code_show){\n",
       " $('div.input').hide();\n",
       " $('div.prompt').hide();\n",
       " } else {\n",
       " $('div.input').show();\n",
       "$('div.prompt').show();\n",
       " }\n",
       " code_show = !code_show\n",
       "} \n",
       "$( document ).ready(code_toggle);\n",
       "</script>\n",
       "<form action=\"javascript:code_toggle()\"><input type=\"submit\" value=\"Code Toggle\"></form>"
      ],
      "text/plain": [
       "<IPython.core.display.HTML object>"
      ]
     },
     "execution_count": 1,
     "metadata": {},
     "output_type": "execute_result"
    }
   ],
   "source": [
    "from IPython.display import HTML\n",
    "\n",
    "HTML('''<script>\n",
    "code_show=true; \n",
    "function code_toggle() {\n",
    " if (code_show){\n",
    " $('div.input').hide();\n",
    " $('div.prompt').hide();\n",
    " } else {\n",
    " $('div.input').show();\n",
    "$('div.prompt').show();\n",
    " }\n",
    " code_show = !code_show\n",
    "} \n",
    "$( document ).ready(code_toggle);\n",
    "</script>\n",
    "<form action=\"javascript:code_toggle()\"><input type=\"submit\" value=\"Code Toggle\"></form>''')"
   ]
  },
  {
   "cell_type": "code",
   "execution_count": 2,
   "metadata": {},
   "outputs": [
    {
     "data": {
      "text/html": [
       "\n",
       "<a href=\"{{ site.links.github }}/raw/master/benchmarks/benchmark3.ipynb\"\n",
       "   download>\n",
       "<button type=\"submit\">Download Notebook</button>\n",
       "</a>\n"
      ],
      "text/plain": [
       "<IPython.core.display.HTML object>"
      ]
     },
     "execution_count": 2,
     "metadata": {},
     "output_type": "execute_result"
    }
   ],
   "source": [
    "from IPython.display import HTML\n",
    "\n",
    "HTML('''\n",
    "<a href=\"{{ site.links.github }}/raw/master/benchmarks/benchmark3.ipynb\"\n",
    "   download>\n",
    "<button type=\"submit\">Download Notebook</button>\n",
    "</a>\n",
    "''')"
   ]
  },
  {
   "cell_type": "markdown",
   "metadata": {},
   "source": [
    "# Benchmark Problem 3: Dendritic Growth"
   ]
  },
  {
   "cell_type": "code",
   "execution_count": 4,
   "metadata": {},
   "outputs": [
    {
     "data": {
      "text/html": [
       "{% include jupyter_benchmark_table.html num=\"[3]\" revision=1 %}"
      ],
      "text/plain": [
       "<IPython.core.display.HTML object>"
      ]
     },
     "execution_count": 4,
     "metadata": {},
     "output_type": "execute_result"
    }
   ],
   "source": [
    "from IPython.display import HTML\n",
    "\n",
    "HTML('''{% include jupyter_benchmark_table.html num=\"[3]\" revision=1 %}''')"
   ]
  },
  {
   "cell_type": "markdown",
   "metadata": {},
   "source": [
    "See the journal publication entitled [\"Phase Field Benchmark Problems for Dendritic Growth and Linear Elasticity\"][nolink] for more details about the benchmark problems. Furthermore, read [the extended essay][benchmarks] for a discussion about the need for benchmark problems.\n",
    "\n",
    "[benchmarks]: ../\n",
    "[nolink]: https://pages.nist.gov/chimad-phase-field/"
   ]
  },
  {
   "cell_type": "markdown",
   "metadata": {},
   "source": [
    "## Overview\n",
    "\n",
    "Dendritic growth simulations are highly sensitive to the particular phase field formulation and numerical implementation employed making it useful as a benchmark problem (see, for example, [[1][karma1998quantitative]],[[2][warren1995prediction]]). Historically, dendritic growth was one of the first applications of phase field modeling \\cite{Fix,Langer}, and remains a significant area of research today.  Previous analyses of both the sharp \\cite{Langer,collins1985diffuse,kobayashi1993modeling,mcfadden1993phase,wang1993thermodynamically} and thin interface limits \\cite{karma1996phase,karma1998quantitative,mcfadden2000thin,karma2001phase} have demonstrated that the diffuse-interface phase field formulation is asymptotically equivalent to the sharp-interface Stefan formulation. In 2001, the introduction of an \"anti-trapping current\" to correct for solute trapping due to the jump in chemical potential at the solid/liquid interface \\cite{karma2001phase,echebarria2004quantitative} facilitated quantitative phase field modeling of alloy solidification using unphysically large diffuse interface widths.  Today, massive increases in computing power and the advent of scientific computing on graphical processing units (GPUs) enable large-scale, quantitative 3D phase field simulations of growing dendrites (see, for example, Refs.~\\cite{hotzer2015large,shibuta2015solidification} and reviews \\cite{takaki2014phase,granasy2014phase}).\n",
    "\n",
    "[karma1998quantitative]: https://doi.org/10.1103/PhysRevE.57.4323\n",
    "[warren1995predictio]: https://doi.org/10.1016/0956-7151(94)00285-P\n",
    "[Fix]: https://doi.org/10.1007/978-3-0348-7893-7\n",
    "[Langer]: https://doi.org/10.1142/9789814415309_0005\n",
    "[collins1985diffuse]: https://doi.org/10.1103/PhysRevB.31.6119\n",
    "[kobayashi1993modeling]: https://doi.org/10.1016/0167-2789(93)90120-P\n",
    "[mcfadden1993phase]: https://doi.org/10.1103/PhysRevE.48.2016\n",
    "[wang1993thermodynamically]: https://doi.org/10.1016/0167-2789(93)90189-8\n",
    "[karma1996phase]: https://doi.org/10.1103/PhysRevE.53.R3017\n",
    "[karma1998quantitative]:\n",
    "[mcfadden2000thin]:\n",
    "[karma2001phase]:\n",
    "[echebarria2004quantitative]:\n",
    "[hotzer2015large]:\n",
    "[shibuta2015solidification]:\n",
    "[takaki2014phase]:\n",
    "[granasy2014phase]:\n"
   ]
  },
  {
   "cell_type": "code",
   "execution_count": null,
   "metadata": {
    "collapsed": true
   },
   "outputs": [],
   "source": []
  },
  {
   "cell_type": "markdown",
   "metadata": {},
   "source": [
    "# References\n",
    "\n"
   ]
  }
 ],
 "metadata": {
  "anaconda-cloud": {},
  "kernelspec": {
   "display_name": "Python [conda root]",
   "language": "python",
   "name": "conda-root-py"
  },
  "language_info": {
   "codemirror_mode": {
    "name": "ipython",
    "version": 3
   },
   "file_extension": ".py",
   "mimetype": "text/x-python",
   "name": "python",
   "nbconvert_exporter": "python",
   "pygments_lexer": "ipython3",
   "version": "3.6.1"
  }
 },
 "nbformat": 4,
 "nbformat_minor": 2
}
