{
 "cells": [
  {
   "cell_type": "code",
   "execution_count": 6,
   "metadata": {
    "collapsed": false
   },
   "outputs": [
    {
     "data": {
      "text/html": [
       "<script>\n",
       "code_show=true; \n",
       "function code_toggle() {\n",
       " if (code_show){\n",
       " $('div.input').hide();\n",
       " $('div.prompt').hide();\n",
       " } else {\n",
       " $('div.input').show();\n",
       "$('div.prompt').show();\n",
       " }\n",
       " code_show = !code_show\n",
       "} \n",
       "$( document ).ready(code_toggle);\n",
       "</script>\n",
       "<form action=\"javascript:code_toggle()\"><input type=\"submit\" value=\"Code Toggle\"></form>"
      ],
      "text/plain": [
       "<IPython.core.display.HTML object>"
      ]
     },
     "execution_count": 6,
     "metadata": {},
     "output_type": "execute_result"
    }
   ],
   "source": [
    "from IPython.display import HTML\n",
    "\n",
    "HTML('''<script>\n",
    "code_show=true; \n",
    "function code_toggle() {\n",
    " if (code_show){\n",
    " $('div.input').hide();\n",
    " $('div.prompt').hide();\n",
    " } else {\n",
    " $('div.input').show();\n",
    "$('div.prompt').show();\n",
    " }\n",
    " code_show = !code_show\n",
    "} \n",
    "$( document ).ready(code_toggle);\n",
    "</script>\n",
    "<form action=\"javascript:code_toggle()\"><input type=\"submit\" value=\"Code Toggle\"></form>''')"
   ]
  },
  {
   "cell_type": "markdown",
   "metadata": {},
   "source": [
    "# Benchmark Problem 1: Spinodal Decomposition\n",
    "\n",
    "See [the extended essay][benchmarks] for a discussion about the need for benchmark problems. A journal publication will be available soon that provides a more extensive description and justification for the benchmark problems described here. \n",
    "\n",
    "## Free energy and dynamics\n",
    "\n",
    "The spinodal decomposition benchmark problem has a single order parameter, $c$, which describes the atomic fraction of solute. The free energy of the system, $F$, is expressed as \n",
    "$$\n",
    "F=\\int_{V}\\left(f_{chem}\\left(c\\right)+\\frac{\\kappa}{2}|\\nabla c|^{2}\\right)dV,\n",
    "$$\n",
    "where $f_{chem}$ is the chemical free energy density and $\\kappa$ is the gradient energy coefficient. For this problem, we choose $f_{chem}$ to have a simple polynomial form,\n",
    "$$\n",
    "f_{chem}\\left(c\\right)=\\varrho_{s}\\left(c-c_{\\alpha}\\right)^{2}\\left(c_{\\beta}-c\\right)^{2},\n",
    "$$\n",
    "such that $f_{chem}$ is a symmetric double-well with minima at $c_{\\alpha}$ and $c_{\\beta}$, and $\\varrho_{s}$ controls the height of the double-well barrier. Because $f_{chem}$ is symmetric (Fig. 1), $c_{\\alpha}$ and $c_{\\beta}$ correspond exactly with the equilibrium atomic fractions of the $\\alpha$ and $\\beta$ phases. \n",
    "\n",
    "[benchmarks]: ../"
   ]
  },
  {
   "cell_type": "code",
   "execution_count": 7,
   "metadata": {
    "collapsed": false
   },
   "outputs": [
    {
     "data": {
      "image/png": "[encoded data removed]",
      "text/plain": [
       "<matplotlib.figure.Figure at 0x7f443d998668>"
      ]
     },
     "metadata": {},
     "output_type": "display_data"
    }
   ],
   "source": [
    "%matplotlib inline\n",
    "import matplotlib.pyplot as plt\n",
    "import numpy as np\n",
    "\n",
    "c_alpha = 0.3\n",
    "c_beta = 0.7\n",
    "rho_s = 5.\n",
    "\n",
    "c = np.linspace(0, 1, 1000)\n",
    "plt.figure(figsize=(6, 5))\n",
    "plt.plot(c, rho_s * (c - c_alpha)**2 * (c - c_beta)**2, lw=4, color='k')\n",
    "plt.xlabel(\"Atomic Fraction, $c$\", fontsize=20)\n",
    "plt.ylabel(\"Free energy density, $f$\", fontsize=20)\n",
    "plt.xticks([0, 0.5, 1.0], fontsize=15)\n",
    "plt.yticks([0, 0.1, 0.2], fontsize=15)\n",
    "plt.title(\"Figure 1\", fontsize=20)\n",
    "plt.show()"
   ]
  },
  {
   "cell_type": "markdown",
   "metadata": {
    "collapsed": true
   },
   "source": [
    "\n",
    "\n",
    "Because $c$ must obey a continuity equation -- the flux of $c$ is conserved -- the evolution of $c$ is given by the Cahn-Hilliard equation [[1][cahn1961spinodal]], which is derived from an Onsager force-flux relationship [[2][balluffi2005kinetics]]:\n",
    "$$\n",
    "\\frac{\\partial c}{\\partial t}=\\nabla\\cdot\\Bigg\\{M\\nabla\\left(\\frac{\\partial f_{chem}}{\\partial c}-\\kappa\\nabla^{2}c\\right)\\Bigg\\}\n",
    "$$\n",
    "where $M$ is the mobility of the solute. For simplicity, both the mobility and the interfacial energy are isotropic. We choose $c_{\\alpha}=0.3$, $c_{\\beta}=0.7$, $\\varrho_{s}=5$, $M=5$, and $\\kappa=2$. Because the interfacial energy, diffuse interface width, and free energy parameterization are coupled, we obtain the diffuse interface width of $l=7.071 \\sqrt{\\kappa/\\varrho}=4.47$ units over which $c$ varies as  $0.348<c<0.652$, and an interfacial energy $\\sigma=0.01508\\sqrt{\\kappa \\varrho}$ [[3][cahn1958free]].\n",
    "\n",
    "[cahn1961spinodal]: http://dx.doi.org/10.1016/0001-6160(61)90182-1\n",
    "[balluffi2005kinetics]: http://dx.doi.org/10.1002/0471749311 \n",
    "[cahn1958free]: http://dx.doi.org/10.1063/1.1744102"
   ]
  },
  {
   "cell_type": "markdown",
   "metadata": {},
   "source": [
    "## Domain geometries and boundary conditions\n",
    "\n",
    "Several boundary conditions, initial conditions and computational domain geometries\n",
    "are used to challenge different aspects of the numerical solver implementation. For both\n",
    "benchmark problems, we test four combinations that are increasingly difficult to solve: two\n",
    "with square computational domains, see (a) and (b), with side lengths of 200 units, one with a computational\n",
    "domain in the shape of a \"T\", see (c), with a total height of 120 units, a total width of 100 units,\n",
    "and horizontal and vertical section widths of 20 units, and one in which the compu-\n",
    "tational domain is the surface of a sphere with a radius of r = 100 units, see (d). While most codes\n",
    "readily handle rectilinear domains, a spherical domain may pose problems, such as having the\n",
    "solution restricted to a two-dimensional curved surface. The coordinate systems and origins\n",
    "are given in Fig. 2. Periodic boundary conditions are applied to one square domain, see (a), while\n",
    "no-flux boundaries are applied to the other square domain, see (b), and the \"T\"-shaped domain, see (c). Periodic boundary conditions are commonly used with rectangular or rectangular prism domains\n",
    "to simulate an infinite material, while no-flux boundary conditions may be used to simulate\n",
    "an isolated piece of material or a mirror plane. As the computational domain is compact\n",
    "for the spherical surface, no boundary conditions are specified for it. Note that the same\n",
    "initial conditions are used for the square computational domains with no-flux, see (b), and periodic boundary conditions, see (a), such that when periodic boundary conditions\n",
    "are applied, there is a discontinuity in the initial condition at the domain boundaries.\n",
    "\n",
    "### (a) Square periodic\n",
    "\n",
    "A 2D square domain with $L_x = L_y = 200$ and periodic boundary conditions."
   ]
  },
  {
   "cell_type": "code",
   "execution_count": 8,
   "metadata": {
    "collapsed": false
   },
   "outputs": [
    {
     "data": {
      "image/svg+xml": [
       "<svg height=\"212px\" version=\"1.1\" width=\"232px\" xmlns=\"http://www.w3.org/2000/svg\" xmlns:xlink=\"http://www.w3.org/1999/xlink\"><defs/><g transform=\"translate(0.5,0.5)\"><rect fill=\"#000000\" height=\"150\" pointer-events=\"none\" stroke=\"#000000\" width=\"150\" x=\"71\" y=\"51\"/><path d=\"M 51 194.63 L 51 57.37\" fill=\"none\" pointer-events=\"none\" stroke=\"#000000\" stroke-miterlimit=\"10\"/><path d=\"M 51 199.88 L 47.5 192.88 L 51 194.63 L 54.5 192.88 Z\" fill=\"#000000\" pointer-events=\"none\" stroke=\"#000000\" stroke-miterlimit=\"10\"/><path d=\"M 51 52.12 L 54.5 59.12 L 51 57.37 L 47.5 59.12 Z\" fill=\"#000000\" pointer-events=\"none\" stroke=\"#000000\" stroke-miterlimit=\"10\"/><path d=\"M 214.63 31 L 77.37 31\" fill=\"none\" pointer-events=\"none\" stroke=\"#000000\" stroke-miterlimit=\"10\"/><path d=\"M 219.88 31 L 212.88 34.5 L 214.63 31 L 212.88 27.5 Z\" fill=\"#000000\" pointer-events=\"none\" stroke=\"#000000\" stroke-miterlimit=\"10\"/><path d=\"M 72.12 31 L 79.12 27.5 L 77.37 31 L 79.12 34.5 Z\" fill=\"#000000\" pointer-events=\"none\" stroke=\"#000000\" stroke-miterlimit=\"10\"/><g transform=\"translate(14.5,124.5)\"><switch><foreignObject height=\"12\" pointer-events=\"all\" requiredFeatures=\"http://www.w3.org/TR/SVG11/feature#Extensibility\" style=\"overflow:visible;\" width=\"13\"><div style=\"display: inline-block; font-size: 12px; font-family: Helvetica; color: rgb(0, 0, 0); line-height: 1.2; vertical-align: top; overflow: hidden; max-height: 16px; max-width: 36px; width: 13px; white-space: normal; text-align: center;\" xmlns=\"http://www.w3.org/1999/xhtml\"><div style=\"display:inline-block;text-align:inherit;text-decoration:inherit;\" xmlns=\"http://www.w3.org/1999/xhtml\">Ly</div></div></foreignObject><text fill=\"#000000\" font-family=\"Helvetica\" font-size=\"12px\" text-anchor=\"middle\" x=\"7\" y=\"12\">Ly</text></switch></g><g transform=\"translate(134.5,4.5)\"><switch><foreignObject height=\"12\" pointer-events=\"all\" requiredFeatures=\"http://www.w3.org/TR/SVG11/feature#Extensibility\" style=\"overflow:visible;\" width=\"13\"><div style=\"display: inline-block; font-size: 12px; font-family: Helvetica; color: rgb(0, 0, 0); line-height: 1.2; vertical-align: top; overflow: hidden; max-height: 16px; max-width: 36px; width: 13px; white-space: normal; text-align: center;\" xmlns=\"http://www.w3.org/1999/xhtml\"><div style=\"display:inline-block;text-align:inherit;text-decoration:inherit;\" xmlns=\"http://www.w3.org/1999/xhtml\">Lx</div></div></foreignObject><text fill=\"#000000\" font-family=\"Helvetica\" font-size=\"12px\" text-anchor=\"middle\" x=\"7\" y=\"12\">Lx</text></switch></g></g></svg>"
      ],
      "text/plain": [
       "<IPython.core.display.SVG object>"
      ]
     },
     "execution_count": 8,
     "metadata": {},
     "output_type": "execute_result"
    }
   ],
   "source": [
    "from IPython.display import SVG\n",
    "SVG(filename='../images/block1.svg')"
   ]
  },
  {
   "cell_type": "markdown",
   "metadata": {},
   "source": [
    "### (b) Square no-flux\n",
    "\n",
    "A 2D square domain with $L_x = L_y = 200$ and no flux boundary conditions."
   ]
  },
  {
   "cell_type": "markdown",
   "metadata": {},
   "source": [
    "### (c) T-shape\n",
    "\n",
    "A T-shaped region with zero flux boundary conditions and with dimensions, $a=b=100$  and  $c=d=20$ "
   ]
  },
  {
   "cell_type": "code",
   "execution_count": 9,
   "metadata": {
    "collapsed": false
   },
   "outputs": [
    {
     "data": {
      "image/svg+xml": [
       "<svg height=\"235px\" version=\"1.1\" width=\"217px\" xmlns=\"http://www.w3.org/2000/svg\" xmlns:xlink=\"http://www.w3.org/1999/xlink\"><defs/><g transform=\"translate(0.5,0.5)\"><rect fill=\"#000000\" height=\"40\" pointer-events=\"none\" stroke=\"#000000\" width=\"150\" x=\"56\" y=\"43\"/><path d=\"M 36 76.63 L 36 49.37\" fill=\"none\" pointer-events=\"none\" stroke=\"#000000\" stroke-miterlimit=\"10\"/><path d=\"M 36 81.88 L 32.5 74.88 L 36 76.63 L 39.5 74.88 Z\" fill=\"#000000\" pointer-events=\"none\" stroke=\"#000000\" stroke-miterlimit=\"10\"/><path d=\"M 36 44.12 L 39.5 51.12 L 36 49.37 L 32.5 51.12 Z\" fill=\"#000000\" pointer-events=\"none\" stroke=\"#000000\" stroke-miterlimit=\"10\"/><path d=\"M 199.63 23 L 62.37 23\" fill=\"none\" pointer-events=\"none\" stroke=\"#000000\" stroke-miterlimit=\"10\"/><path d=\"M 204.88 23 L 197.88 26.5 L 199.63 23 L 197.88 19.5 Z\" fill=\"#000000\" pointer-events=\"none\" stroke=\"#000000\" stroke-miterlimit=\"10\"/><path d=\"M 57.12 23 L 64.12 19.5 L 62.37 23 L 64.12 26.5 Z\" fill=\"#000000\" pointer-events=\"none\" stroke=\"#000000\" stroke-miterlimit=\"10\"/><g transform=\"translate(122.5,4.5)\"><switch><foreignObject height=\"12\" pointer-events=\"all\" requiredFeatures=\"http://www.w3.org/TR/SVG11/feature#Extensibility\" style=\"overflow:visible;\" width=\"7\"><div style=\"display: inline-block; font-size: 12px; font-family: Helvetica; color: rgb(0, 0, 0); line-height: 1.2; vertical-align: top; overflow: hidden; max-height: 16px; max-width: 36px; width: 7px; white-space: normal; text-align: center;\" xmlns=\"http://www.w3.org/1999/xhtml\"><div style=\"display:inline-block;text-align:inherit;text-decoration:inherit;\" xmlns=\"http://www.w3.org/1999/xhtml\">b</div></div></foreignObject><text fill=\"#000000\" font-family=\"Helvetica\" font-size=\"12px\" text-anchor=\"middle\" x=\"4\" y=\"12\">b</text></switch></g><rect fill=\"#000000\" height=\"110\" pointer-events=\"none\" stroke=\"#000000\" width=\"40\" x=\"111\" y=\"83\"/><path d=\"M 86 186.63 L 86 89.37\" fill=\"none\" pointer-events=\"none\" stroke=\"#000000\" stroke-miterlimit=\"10\"/><path d=\"M 86 191.88 L 82.5 184.88 L 86 186.63 L 89.5 184.88 Z\" fill=\"#000000\" pointer-events=\"none\" stroke=\"#000000\" stroke-miterlimit=\"10\"/><path d=\"M 86 84.12 L 89.5 91.12 L 86 89.37 L 82.5 91.12 Z\" fill=\"#000000\" pointer-events=\"none\" stroke=\"#000000\" stroke-miterlimit=\"10\"/><path d=\"M 144.63 213 L 117.37 213\" fill=\"none\" pointer-events=\"none\" stroke=\"#000000\" stroke-miterlimit=\"10\"/><path d=\"M 149.88 213 L 142.88 216.5 L 144.63 213 L 142.88 209.5 Z\" fill=\"#000000\" pointer-events=\"none\" stroke=\"#000000\" stroke-miterlimit=\"10\"/><path d=\"M 112.12 213 L 119.12 209.5 L 117.37 213 L 119.12 216.5 Z\" fill=\"#000000\" pointer-events=\"none\" stroke=\"#000000\" stroke-miterlimit=\"10\"/><g transform=\"translate(72.5,141.5)\"><switch><foreignObject height=\"12\" pointer-events=\"all\" requiredFeatures=\"http://www.w3.org/TR/SVG11/feature#Extensibility\" style=\"overflow:visible;\" width=\"7\"><div style=\"display: inline-block; font-size: 12px; font-family: Helvetica; color: rgb(0, 0, 0); line-height: 1.2; vertical-align: top; overflow: hidden; max-height: 16px; max-width: 36px; width: 7px; white-space: normal; text-align: center;\" xmlns=\"http://www.w3.org/1999/xhtml\"><div style=\"display:inline-block;text-align:inherit;text-decoration:inherit;\" xmlns=\"http://www.w3.org/1999/xhtml\">a</div></div></foreignObject><text fill=\"#000000\" font-family=\"Helvetica\" font-size=\"12px\" text-anchor=\"middle\" x=\"4\" y=\"12\">a</text></switch></g><g transform=\"translate(17.5,56.5)\"><switch><foreignObject height=\"12\" pointer-events=\"all\" requiredFeatures=\"http://www.w3.org/TR/SVG11/feature#Extensibility\" style=\"overflow:visible;\" width=\"6\"><div style=\"display: inline-block; font-size: 12px; font-family: Helvetica; color: rgb(0, 0, 0); line-height: 1.2; vertical-align: top; overflow: hidden; max-height: 16px; max-width: 36px; width: 7px; white-space: normal; text-align: center;\" xmlns=\"http://www.w3.org/1999/xhtml\"><div style=\"display:inline-block;text-align:inherit;text-decoration:inherit;\" xmlns=\"http://www.w3.org/1999/xhtml\">c</div></div></foreignObject><text fill=\"#000000\" font-family=\"Helvetica\" font-size=\"12px\" text-anchor=\"middle\" x=\"3\" y=\"12\">c</text></switch></g><g transform=\"translate(127.5,216.5)\"><switch><foreignObject height=\"12\" pointer-events=\"all\" requiredFeatures=\"http://www.w3.org/TR/SVG11/feature#Extensibility\" style=\"overflow:visible;\" width=\"7\"><div style=\"display: inline-block; font-size: 12px; font-family: Helvetica; color: rgb(0, 0, 0); line-height: 1.2; vertical-align: top; overflow: hidden; max-height: 16px; max-width: 36px; width: 7px; white-space: normal; text-align: center;\" xmlns=\"http://www.w3.org/1999/xhtml\"><div style=\"display:inline-block;text-align:inherit;text-decoration:inherit;\" xmlns=\"http://www.w3.org/1999/xhtml\">d</div></div></foreignObject><text fill=\"#000000\" font-family=\"Helvetica\" font-size=\"12px\" text-anchor=\"middle\" x=\"4\" y=\"12\">d</text></switch></g></g></svg>"
      ],
      "text/plain": [
       "<IPython.core.display.SVG object>"
      ]
     },
     "execution_count": 9,
     "metadata": {},
     "output_type": "execute_result"
    }
   ],
   "source": [
    "from IPython.display import SVG\n",
    "SVG(filename='../images/t-shape.svg')"
   ]
  },
  {
   "cell_type": "markdown",
   "metadata": {},
   "source": [
    "### (d) Sphere\n",
    "\n",
    "The domain is the surface of a sphere with radius 100.\n",
    "\n",
    "## Initial Conditions\n",
    "\n",
    "The initial conditions for the first benchmark problem are chosen such that the average value of $c$ over the computational domain is approximately $0.5$.\n",
    "\n",
    "### Initial condititions for (a), (b) and (c)\n",
    "\n",
    "The initial value of $c$ for the square and \"T\" computational domains is\n",
    "specified by \n",
    "\\begin{eqnarray}\n",
    "c\\left(x,y\\right) & = & c_{0}+\\epsilon\\left[\\cos\\left(0.105x\\right)\\cos\\left(0.11y\\right)+\\left[\\cos\\left(0.13x\\right)\\cos\\left(0.087y\\right)\\right]^{2}\\right.\\nonumber \\\\\n",
    " &  & \\left.+\\cos\\left(0.025x-0.15y\\right)\\cos\\left(0.07x-0.02y\\right)\\right],\n",
    "\\end{eqnarray}\n",
    "where $c_{0}=0.5$ and $\\epsilon=0.01$.\n",
    "\n",
    "### Initial conditions for (d)\n",
    "\n",
    "The initial value of $c$ for the spherical computational domain is specified by\n",
    "\\begin{eqnarray}\n",
    "c\\left(\\theta,\\phi\\right) & = & c_{0}+\\epsilon_{sphere}\\left[\\cos\\left(8\\theta\\right)\\cos\\left(15\\phi\\right)+\\left(\\cos\\left(12\\theta\\right)\\cos\\left(10\\phi\\right)\\right)^{2}\\right.\\nonumber \\\\\n",
    " &  & +\\left.\\cos\\left(2.5\\theta-1.5\\phi\\right)\\cos\\left(7\\theta-2\\phi\\right)\\right],\n",
    "\\end{eqnarray}\n",
    "where $\\epsilon_{\\text{sphere}}=0.05$, and $\\theta$ and $\\phi$ are the polar and azimuthal angles, respectively, in a spherical coordinate system. These angles are translated into a Cartesian system as $\\theta=\\cos^{-1}\\left(z/r\\right)$ and $\\phi=\\tan^{-1}\\left(y/x\\right)$ dependent upon angle."
   ]
  },
  {
   "cell_type": "code",
   "execution_count": 83,
   "metadata": {
    "collapsed": false
   },
   "outputs": [
    {
     "data": {
      "text/html": [
       "<iframe id=\"igraph\" scrolling=\"no\" style=\"border:none;\" seamless=\"seamless\" src=\"https://plot.ly/~daniel.wheeler2/100.embed\" height=\"500.0px\" width=\"900.0px\"></iframe>"
      ],
      "text/plain": [
       "<plotly.tools.PlotlyDisplay object>"
      ]
     },
     "execution_count": 83,
     "metadata": {},
     "output_type": "execute_result"
    }
   ],
   "source": [
    "from plotly import tools\n",
    "import plotly.plotly as py\n",
    "import plotly.graph_objs as go\n",
    "\n",
    "Ngrid = 200\n",
    "\n",
    "c_0 = 0.5\n",
    "epsilon = 0.01\n",
    "\n",
    "x_ab = np.linspace(0, 200, Ngrid)\n",
    "y_ab = np.linspace(0, 200, Ngrid)\n",
    "\n",
    "def c_ini(x_, y_):\n",
    "    y = y_[:, None]\n",
    "    x = x_[None, :]\n",
    "    c = c_0 + epsilon * (np.cos(0.105 * x) * np.cos(0.11 * y) + (np.cos(0.13 * x) * np.cos(0.087 * y))**2 \\\n",
    "                         + np.cos(0.025 * x - 0.15 * y) * np.cos(0.07 * x - 0.02 * y))\n",
    "    return x, y, c\n",
    "\n",
    "y_c = np.linspace(0, 120, Ngrid)\n",
    "x_c = np.linspace(-40, 60, Ngrid)\n",
    "x_c_, y_c_, c_c_ = c_ini(x_c, y_c)\n",
    "mask = ((x_c_ < 0) | (x_c_ > 20)) & (y_c_ < 100)\n",
    "c_c_[mask] = np.NaN\n",
    "c_c = c_c_\n",
    "\n",
    "trace1 = go.Contour(\n",
    "    x=x_ab,\n",
    "    y=y_ab,\n",
    "    z=c_ini(x_ab, y_ab)[2],\n",
    "    zmin=0.47,\n",
    "    zmax=0.53,\n",
    "    line=dict(smoothing=0.85),\n",
    "    ncontours=100,\n",
    "    contours=dict(coloring=\"fill\",\n",
    "                  showlines=False))\n",
    "\n",
    "\n",
    "trace2 = go.Contour(\n",
    "    x=x_c,\n",
    "    y=y_c,\n",
    "    z=c_c,\n",
    "    zmin=0.47,\n",
    "    zmax=0.53,\n",
    "    line=dict(smoothing=0.85),\n",
    "    ncontours=100,\n",
    "    contours=dict(coloring=\"fill\",\n",
    "                  showlines=False))\n",
    "\n",
    "layout = dict(\n",
    "    autosize=False,\n",
    "    height=500.,\n",
    "    width=900.,\n",
    "    xaxis2 = dict(\n",
    "        zeroline=False\n",
    "    )\n",
    ")\n",
    "\n",
    "fig = tools.make_subplots(rows=1, cols=2, subplot_titles=('Initial Conditions for 1(a) and 1(b)', \n",
    "                                                          'Initial Conditions for 1(c)'), print_grid=False)\n",
    "\n",
    "fig.append_trace(trace1, 1, 1)\n",
    "fig.append_trace(trace2, 1, 2)\n",
    "\n",
    "fig['layout'].update(layout)\n",
    "\n",
    "py.iplot(fig, sharing=\"public\")"
   ]
  },
  {
   "cell_type": "code",
   "execution_count": 86,
   "metadata": {
    "collapsed": false
   },
   "outputs": [
    {
     "data": {
      "text/html": [
       "<iframe id=\"igraph\" scrolling=\"no\" style=\"border:none;\" seamless=\"seamless\" src=\"https://plot.ly/~daniel.wheeler2/104.embed\" height=\"800px\" width=\"800px\"></iframe>"
      ],
      "text/plain": [
       "<plotly.tools.PlotlyDisplay object>"
      ]
     },
     "execution_count": 86,
     "metadata": {},
     "output_type": "execute_result"
    }
   ],
   "source": [
    "import plotly.plotly as py\n",
    "from plotly.graph_objs import *\n",
    "from plotly.tools import FigureFactory as FF\n",
    "\n",
    "import numpy as np\n",
    "from skimage import measure\n",
    "\n",
    "X,Y,Z = np.mgrid[-110:110:40j, -110:110:40j, -110:110:40j]\n",
    "surf_eq = X**2 + Y**2 + Z**2 - 100**2\n",
    "\n",
    "vertices, simplices = measure.marching_cubes(surf_eq, 0)\n",
    "x,y,z = zip(*vertices)  \n",
    "\n",
    "colormap=['rgb(255,105,180)','rgb(255,255,51)','rgb(0,191,255)']\n",
    "fig = FF.create_trisurf(x=x,\n",
    "                        y=y, \n",
    "                        z=z, \n",
    "                        plot_edges=False,\n",
    "                        colormap=colormap,\n",
    "                        simplices=simplices,\n",
    "                        title=\"Isosurface\")\n",
    "py.iplot(fig, sharing=\"public\")"
   ]
  },
  {
   "cell_type": "code",
   "execution_count": 65,
   "metadata": {
    "collapsed": false
   },
   "outputs": [
    {
     "name": "stdout",
     "output_type": "stream",
     "text": [
      "[[False False False]\n",
      " [False False  True]\n",
      " [ True  True  True]]\n",
      "[[0 1 2]\n",
      " [3 4 5]\n",
      " [6 7 8]]\n",
      "[[ 0  1  2]\n",
      " [ 3  4 -3]\n",
      " [-3 -3 -3]]\n"
     ]
    }
   ],
   "source": [
    "aa = np.arange(9).reshape((3, 3))\n",
    "bb = aa > 4\n",
    "print(bb)\n",
    "print(aa)\n",
    "aa[bb] = -3\n",
    "print(aa)"
   ]
  },
  {
   "cell_type": "code",
   "execution_count": 53,
   "metadata": {
    "collapsed": true
   },
   "outputs": [],
   "source": [
    "?tools.make_subplots"
   ]
  },
  {
   "cell_type": "code",
   "execution_count": null,
   "metadata": {
    "collapsed": true
   },
   "outputs": [],
   "source": []
  }
 ],
 "metadata": {
  "kernelspec": {
   "display_name": "Python 3",
   "language": "python",
   "name": "python3"
  },
  "language_info": {
   "codemirror_mode": {
    "name": "ipython",
    "version": 3
   },
   "file_extension": ".py",
   "mimetype": "text/x-python",
   "name": "python",
   "nbconvert_exporter": "python",
   "pygments_lexer": "ipython3",
   "version": "3.5.1"
  }
 },
 "nbformat": 4,
 "nbformat_minor": 0
}
