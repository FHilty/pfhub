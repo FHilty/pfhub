{
 "cells": [
  {
   "cell_type": "code",
   "execution_count": 1,
   "metadata": {},
   "outputs": [
    {
     "data": {
      "text/html": [
       "<script>\n",
       "code_show=true; \n",
       "function code_toggle() {\n",
       " if (code_show){\n",
       " $('div.input').hide();\n",
       " $('div.prompt').hide();\n",
       " } else {\n",
       " $('div.input').show();\n",
       "$('div.prompt').show();\n",
       " }\n",
       " code_show = !code_show\n",
       "} \n",
       "$( document ).ready(code_toggle);\n",
       "</script>\n",
       "<form action=\"javascript:code_toggle()\"><input type=\"submit\" value=\"Code Toggle\"></form>"
      ],
      "text/plain": [
       "<IPython.core.display.HTML object>"
      ]
     },
     "execution_count": 1,
     "metadata": {},
     "output_type": "execute_result"
    }
   ],
   "source": [
    "from IPython.display import HTML\n",
    "\n",
    "HTML('''<script>\n",
    "code_show=true; \n",
    "function code_toggle() {\n",
    " if (code_show){\n",
    " $('div.input').hide();\n",
    " $('div.prompt').hide();\n",
    " } else {\n",
    " $('div.input').show();\n",
    "$('div.prompt').show();\n",
    " }\n",
    " code_show = !code_show\n",
    "} \n",
    "$( document ).ready(code_toggle);\n",
    "</script>\n",
    "<form action=\"javascript:code_toggle()\"><input type=\"submit\" value=\"Code Toggle\"></form>''')"
   ]
  },
  {
   "cell_type": "code",
   "execution_count": 3,
   "metadata": {},
   "outputs": [
    {
     "data": {
      "text/html": [
       "\n",
       "<a href=\"https://raw.githubusercontent.com/{{ site.links.repo }}/master/benchmarks/benchmark5-hackathon.ipynb\"\n",
       "   download=\"benchmark5-hackathon.ipynb\">\n",
       "<button type=\"submit\">Download Notebook</button>\n",
       "</a>"
      ],
      "text/plain": [
       "<IPython.core.display.HTML object>"
      ]
     },
     "execution_count": 3,
     "metadata": {},
     "output_type": "execute_result"
    }
   ],
   "source": [
    "from IPython.display import HTML\n",
    "\n",
    "HTML('''\n",
    "<a href=\"https://raw.githubusercontent.com/{{ site.links.repo }}/master/benchmarks/benchmark5-hackathon.ipynb\"\n",
    "   download=\"benchmark5-hackathon.ipynb\">\n",
    "<button type=\"submit\">Download Notebook</button>\n",
    "</a>''')"
   ]
  },
  {
   "cell_type": "markdown",
   "metadata": {},
   "source": [
    "# Benchmark Problem 5: Stokes Flow"
   ]
  },
  {
   "cell_type": "code",
   "execution_count": 4,
   "metadata": {},
   "outputs": [
    {
     "data": {
      "text/html": [
       "{% include jupyter_benchmark_table.html num=\"[5]\" revision=0 %}"
      ],
      "text/plain": [
       "<IPython.core.display.HTML object>"
      ]
     },
     "execution_count": 4,
     "metadata": {},
     "output_type": "execute_result"
    }
   ],
   "source": [
    "from IPython.display import HTML\n",
    "\n",
    "HTML('''{% include jupyter_benchmark_table.html num=\"[5]\" revision=0 %}''')"
   ]
  },
  {
   "cell_type": "markdown",
   "metadata": {},
   "source": [
    "See the Overleaf document entitled [\"Phase Field Benchmark Problems for Dendritic Growth and Linear Elasticity\"][overleaf] for more details about the benchmark problems. Furthermore, read [the extended essay][benchmarks] for a discussion about the need for benchmark problems.\n",
    "\n",
    "[benchmarks]: ../ \n",
    "[overleaf]: https://www.overleaf.com/read/nqjkdwyybvdz"
   ]
  },
  {
   "cell_type": "markdown",
   "metadata": {},
   "source": [
    "# Overview\n",
    "\n",
    "Flow of a liquid can be incorporated into phase field models, so we present this benchmark problem for incompressible fluid flow through a channel (the flow of many liquids can be modeled as incompressible). The flow of a fluid can generally be modeled via the Navier-Stokes equations.  When length scales are small, fluid velocities are low, and/or viscosity is large, such that the Reynolds number $Re<<1$, inertial forces are small compared with viscous forces, resulting in a simplification of Navier-Stokes flow to Stokes flow. "
   ]
  },
  {
   "cell_type": "markdown",
   "metadata": {},
   "source": [
    "# Model Formulation\n",
    "\n",
    "## Governing Equations\n",
    "\n",
    "In this problem, two variables are used: the fluid velocity, $\\textbf{u}$, which is a vector field, and the fluid pressure, $p$, which is a scalar field.  The Stokes momentum equation is given as\n",
    "\n",
    "\\begin{equation}\n",
    "-\\mu \\nabla^{2} \\textbf{u} + \\nabla p - \\rho \\textbf{g} = 0,\n",
    "\\end{equation} \n",
    "\n",
    "where $\\rho$ is the density, assumed constant in this problem, $\\mu$ is the dynamic viscosity, and $\\textbf{g}$ is the acceleration due to gravity.  To fully describe fluid flow, the momentum balance equation is supplemented with the continuity equation for mass flow,\n",
    "\n",
    "\\begin{equation}\n",
    "\\frac{d\\rho}{dt}+\\nabla\\cdot\\left(\\rho{\\mathbf u}\\right)=0;\n",
    "\\end{equation}\n",
    "\n",
    "this simplifies to \n",
    "\\begin{equation}\n",
    "\\nabla \\cdot \\textbf{u} = 0\n",
    "\\end{equation}\n",
    "\n",
    "for incompressible flow.  Use $\\rho=100$, $\\mu=1$, and $\\textbf{g}=(0,-0.001)$.\n",
    "\n",
    "## Domain\n",
    "\n",
    "In this problem, we consider flow in a 2D channel (a) without and (b) with an obstruction.  The computational domain for case (b) is shown below with inlet boundary condition indicated by arrows for the Stokes flow benchmark problem with an obstruction (case (b).  The domain and boundary conditions, etc., for case (a) are the same as that in case (b), but without the obstruction. \n",
    "\n",
    "![stokes domain](../../images/stokes_domain.png)\n",
    "\n",
    "All solid surfaces, including the boundary for the obstruction, have no-slip boundary conditions, that is, $u_x=u_y=0$.  The inlet velocity, on the left boundary, follows a parabolic profile described by \n",
    "\n",
    "## Boundary Conditions\n",
    "\n",
    "\\begin{equation}\n",
    "u_x(0,y) = -0.001(y-3)^2+0.009.\n",
    "\\end{equation}\n",
    "\n",
    "The outlet velocity (on the right boundary) is left to the solver to determine, as is the pressure over the entire domain.  However, we specify that the pressure at point (30, 6) is zero.  Finally, the obstruction is described by an ellipse centered at (7, 2.5).  The semi-major axis (in the y-direction) is $a=1.5$, and the semi-minor axis (in the x-direction) is $b=1$.  "
   ]
  },
  {
   "cell_type": "markdown",
   "metadata": {},
   "source": [
    "## Submission Guidelines\n",
    "\n",
    "For both case (a) and case (b), find the steady-state pressure and velocity distributions given these boundary conditions.  Plot the pressure and all three vector components of the velocity over the lines $y=5$ and $x=7$.  Perform a mesh convergence study to illustrate the effect of mesh size on the solution."
   ]
  }
 ],
 "metadata": {
  "anaconda-cloud": {},
  "kernelspec": {
   "display_name": "Python [default]",
   "language": "python",
   "name": "python3"
  },
  "language_info": {
   "codemirror_mode": {
    "name": "ipython",
    "version": 3
   },
   "file_extension": ".py",
   "mimetype": "text/x-python",
   "name": "python",
   "nbconvert_exporter": "python",
   "pygments_lexer": "ipython3",
   "version": "3.6.1"
  }
 },
 "nbformat": 4,
 "nbformat_minor": 2
}
